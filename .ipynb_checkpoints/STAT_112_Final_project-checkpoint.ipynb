{
 "cells": [
  {
   "cell_type": "markdown",
   "id": "da1410dc",
   "metadata": {},
   "source": [
    "# STAT 112 Final Project"
   ]
  },
  {
   "cell_type": "markdown",
   "id": "0c952902",
   "metadata": {},
   "source": [
    "### https://github.com/CatKerel/STAT-112-Final-Project"
   ]
  },
  {
   "cell_type": "markdown",
   "id": "bfb7e778",
   "metadata": {
    "id": "bfb7e778"
   },
   "source": [
    "## Data cleaning"
   ]
  },
  {
   "cell_type": "code",
   "execution_count": 121,
   "id": "eb40be8f",
   "metadata": {
    "id": "eb40be8f"
   },
   "outputs": [],
   "source": [
    "import numpy as np \n",
    "import pandas as pd\n",
    "import seaborn as sns\n",
    "import matplotlib.pyplot as plt"
   ]
  },
  {
   "cell_type": "code",
   "execution_count": 122,
   "id": "e57f801b",
   "metadata": {
    "colab": {
     "base_uri": "https://localhost:8080/",
     "height": 467
    },
    "id": "e57f801b",
    "outputId": "94e5f88c-a0a4-4497-b133-2ef479712423"
   },
   "outputs": [
    {
     "data": {
      "text/html": [
       "\n",
       "  <div id=\"df-7565a2cb-8c71-4b44-b7ca-5301da992331\">\n",
       "    <div class=\"colab-df-container\">\n",
       "      <div>\n",
       "<style scoped>\n",
       "    .dataframe tbody tr th:only-of-type {\n",
       "        vertical-align: middle;\n",
       "    }\n",
       "\n",
       "    .dataframe tbody tr th {\n",
       "        vertical-align: top;\n",
       "    }\n",
       "\n",
       "    .dataframe thead th {\n",
       "        text-align: right;\n",
       "    }\n",
       "</style>\n",
       "<table border=\"1\" class=\"dataframe\">\n",
       "  <thead>\n",
       "    <tr style=\"text-align: right;\">\n",
       "      <th></th>\n",
       "      <th>id</th>\n",
       "      <th>gender</th>\n",
       "      <th>age</th>\n",
       "      <th>hypertension</th>\n",
       "      <th>heart_disease</th>\n",
       "      <th>ever_married</th>\n",
       "      <th>work_type</th>\n",
       "      <th>Residence_type</th>\n",
       "      <th>avg_glucose_level</th>\n",
       "      <th>bmi</th>\n",
       "      <th>smoking_status</th>\n",
       "      <th>stroke</th>\n",
       "    </tr>\n",
       "  </thead>\n",
       "  <tbody>\n",
       "    <tr>\n",
       "      <th>0</th>\n",
       "      <td>60744.0</td>\n",
       "      <td>Male</td>\n",
       "      <td>61.0</td>\n",
       "      <td>1.0</td>\n",
       "      <td>0.0</td>\n",
       "      <td>Yes</td>\n",
       "      <td>Self-employed</td>\n",
       "      <td>Rural</td>\n",
       "      <td>76.11</td>\n",
       "      <td>27.3</td>\n",
       "      <td>smokes</td>\n",
       "      <td>1.0</td>\n",
       "    </tr>\n",
       "    <tr>\n",
       "      <th>1</th>\n",
       "      <td>64742.0</td>\n",
       "      <td>Male</td>\n",
       "      <td>48.0</td>\n",
       "      <td>0.0</td>\n",
       "      <td>0.0</td>\n",
       "      <td>No</td>\n",
       "      <td>Self-employed</td>\n",
       "      <td>Rural</td>\n",
       "      <td>64.18</td>\n",
       "      <td>32.1</td>\n",
       "      <td>never smoked</td>\n",
       "      <td>0.0</td>\n",
       "    </tr>\n",
       "    <tr>\n",
       "      <th>2</th>\n",
       "      <td>44447.0</td>\n",
       "      <td>Male</td>\n",
       "      <td>49.0</td>\n",
       "      <td>0.0</td>\n",
       "      <td>0.0</td>\n",
       "      <td>Yes</td>\n",
       "      <td>Private</td>\n",
       "      <td>Urban</td>\n",
       "      <td>58.19</td>\n",
       "      <td>29.6</td>\n",
       "      <td>smokes</td>\n",
       "      <td>0.0</td>\n",
       "    </tr>\n",
       "    <tr>\n",
       "      <th>3</th>\n",
       "      <td>54117.0</td>\n",
       "      <td>Male</td>\n",
       "      <td>7.0</td>\n",
       "      <td>0.0</td>\n",
       "      <td>0.0</td>\n",
       "      <td>NaN</td>\n",
       "      <td>children</td>\n",
       "      <td>Rural</td>\n",
       "      <td>NaN</td>\n",
       "      <td>19.0</td>\n",
       "      <td>NaN</td>\n",
       "      <td>0.0</td>\n",
       "    </tr>\n",
       "    <tr>\n",
       "      <th>4</th>\n",
       "      <td>46468.0</td>\n",
       "      <td>FeMALe</td>\n",
       "      <td>38.0</td>\n",
       "      <td>0.0</td>\n",
       "      <td>0.0</td>\n",
       "      <td>Yes</td>\n",
       "      <td>Self-employED</td>\n",
       "      <td>Urban</td>\n",
       "      <td>147.48</td>\n",
       "      <td>NaN</td>\n",
       "      <td>Unknown</td>\n",
       "      <td>0.0</td>\n",
       "    </tr>\n",
       "    <tr>\n",
       "      <th>...</th>\n",
       "      <td>...</td>\n",
       "      <td>...</td>\n",
       "      <td>...</td>\n",
       "      <td>...</td>\n",
       "      <td>...</td>\n",
       "      <td>...</td>\n",
       "      <td>...</td>\n",
       "      <td>...</td>\n",
       "      <td>...</td>\n",
       "      <td>...</td>\n",
       "      <td>...</td>\n",
       "      <td>...</td>\n",
       "    </tr>\n",
       "    <tr>\n",
       "      <th>995</th>\n",
       "      <td>20165.0</td>\n",
       "      <td>Female</td>\n",
       "      <td>77.0</td>\n",
       "      <td>0.0</td>\n",
       "      <td>0.0</td>\n",
       "      <td>NaN</td>\n",
       "      <td>Private</td>\n",
       "      <td>Urban</td>\n",
       "      <td>250.80</td>\n",
       "      <td>32.9</td>\n",
       "      <td>never smoked</td>\n",
       "      <td>0.0</td>\n",
       "    </tr>\n",
       "    <tr>\n",
       "      <th>996</th>\n",
       "      <td>39375.0</td>\n",
       "      <td>Female</td>\n",
       "      <td>40.0</td>\n",
       "      <td>0.0</td>\n",
       "      <td>0.0</td>\n",
       "      <td>Yes</td>\n",
       "      <td>Private</td>\n",
       "      <td>Rural</td>\n",
       "      <td>119.52</td>\n",
       "      <td>34.6</td>\n",
       "      <td>never smoked</td>\n",
       "      <td>NaN</td>\n",
       "    </tr>\n",
       "    <tr>\n",
       "      <th>997</th>\n",
       "      <td>18790.0</td>\n",
       "      <td>Male</td>\n",
       "      <td>25.0</td>\n",
       "      <td>0.0</td>\n",
       "      <td>0.0</td>\n",
       "      <td>No</td>\n",
       "      <td>Private</td>\n",
       "      <td>Urban</td>\n",
       "      <td>85.96</td>\n",
       "      <td>NaN</td>\n",
       "      <td>formerly smoked</td>\n",
       "      <td>0.0</td>\n",
       "    </tr>\n",
       "    <tr>\n",
       "      <th>998</th>\n",
       "      <td>NaN</td>\n",
       "      <td>Female</td>\n",
       "      <td>43.0</td>\n",
       "      <td>0.0</td>\n",
       "      <td>0.0</td>\n",
       "      <td>NaN</td>\n",
       "      <td>Self-employed</td>\n",
       "      <td>Urban</td>\n",
       "      <td>89.73</td>\n",
       "      <td>NaN</td>\n",
       "      <td>formerly smoked</td>\n",
       "      <td>0.0</td>\n",
       "    </tr>\n",
       "    <tr>\n",
       "      <th>999</th>\n",
       "      <td>5821.0</td>\n",
       "      <td>NaN</td>\n",
       "      <td>50.0</td>\n",
       "      <td>0.0</td>\n",
       "      <td>0.0</td>\n",
       "      <td>Yes</td>\n",
       "      <td>Private</td>\n",
       "      <td>Rural</td>\n",
       "      <td>217.39</td>\n",
       "      <td>50.6</td>\n",
       "      <td>Unknown</td>\n",
       "      <td>0.0</td>\n",
       "    </tr>\n",
       "  </tbody>\n",
       "</table>\n",
       "<p>1000 rows × 12 columns</p>\n",
       "</div>\n",
       "      <button class=\"colab-df-convert\" onclick=\"convertToInteractive('df-7565a2cb-8c71-4b44-b7ca-5301da992331')\"\n",
       "              title=\"Convert this dataframe to an interactive table.\"\n",
       "              style=\"display:none;\">\n",
       "        \n",
       "  <svg xmlns=\"http://www.w3.org/2000/svg\" height=\"24px\"viewBox=\"0 0 24 24\"\n",
       "       width=\"24px\">\n",
       "    <path d=\"M0 0h24v24H0V0z\" fill=\"none\"/>\n",
       "    <path d=\"M18.56 5.44l.94 2.06.94-2.06 2.06-.94-2.06-.94-.94-2.06-.94 2.06-2.06.94zm-11 1L8.5 8.5l.94-2.06 2.06-.94-2.06-.94L8.5 2.5l-.94 2.06-2.06.94zm10 10l.94 2.06.94-2.06 2.06-.94-2.06-.94-.94-2.06-.94 2.06-2.06.94z\"/><path d=\"M17.41 7.96l-1.37-1.37c-.4-.4-.92-.59-1.43-.59-.52 0-1.04.2-1.43.59L10.3 9.45l-7.72 7.72c-.78.78-.78 2.05 0 2.83L4 21.41c.39.39.9.59 1.41.59.51 0 1.02-.2 1.41-.59l7.78-7.78 2.81-2.81c.8-.78.8-2.07 0-2.86zM5.41 20L4 18.59l7.72-7.72 1.47 1.35L5.41 20z\"/>\n",
       "  </svg>\n",
       "      </button>\n",
       "      \n",
       "  <style>\n",
       "    .colab-df-container {\n",
       "      display:flex;\n",
       "      flex-wrap:wrap;\n",
       "      gap: 12px;\n",
       "    }\n",
       "\n",
       "    .colab-df-convert {\n",
       "      background-color: #E8F0FE;\n",
       "      border: none;\n",
       "      border-radius: 50%;\n",
       "      cursor: pointer;\n",
       "      display: none;\n",
       "      fill: #1967D2;\n",
       "      height: 32px;\n",
       "      padding: 0 0 0 0;\n",
       "      width: 32px;\n",
       "    }\n",
       "\n",
       "    .colab-df-convert:hover {\n",
       "      background-color: #E2EBFA;\n",
       "      box-shadow: 0px 1px 2px rgba(60, 64, 67, 0.3), 0px 1px 3px 1px rgba(60, 64, 67, 0.15);\n",
       "      fill: #174EA6;\n",
       "    }\n",
       "\n",
       "    [theme=dark] .colab-df-convert {\n",
       "      background-color: #3B4455;\n",
       "      fill: #D2E3FC;\n",
       "    }\n",
       "\n",
       "    [theme=dark] .colab-df-convert:hover {\n",
       "      background-color: #434B5C;\n",
       "      box-shadow: 0px 1px 3px 1px rgba(0, 0, 0, 0.15);\n",
       "      filter: drop-shadow(0px 1px 2px rgba(0, 0, 0, 0.3));\n",
       "      fill: #FFFFFF;\n",
       "    }\n",
       "  </style>\n",
       "\n",
       "      <script>\n",
       "        const buttonEl =\n",
       "          document.querySelector('#df-7565a2cb-8c71-4b44-b7ca-5301da992331 button.colab-df-convert');\n",
       "        buttonEl.style.display =\n",
       "          google.colab.kernel.accessAllowed ? 'block' : 'none';\n",
       "\n",
       "        async function convertToInteractive(key) {\n",
       "          const element = document.querySelector('#df-7565a2cb-8c71-4b44-b7ca-5301da992331');\n",
       "          const dataTable =\n",
       "            await google.colab.kernel.invokeFunction('convertToInteractive',\n",
       "                                                     [key], {});\n",
       "          if (!dataTable) return;\n",
       "\n",
       "          const docLinkHtml = 'Like what you see? Visit the ' +\n",
       "            '<a target=\"_blank\" href=https://colab.research.google.com/notebooks/data_table.ipynb>data table notebook</a>'\n",
       "            + ' to learn more about interactive tables.';\n",
       "          element.innerHTML = '';\n",
       "          dataTable['output_type'] = 'display_data';\n",
       "          await google.colab.output.renderOutput(dataTable, element);\n",
       "          const docLink = document.createElement('div');\n",
       "          docLink.innerHTML = docLinkHtml;\n",
       "          element.appendChild(docLink);\n",
       "        }\n",
       "      </script>\n",
       "    </div>\n",
       "  </div>\n",
       "  "
      ],
      "text/plain": [
       "          id  gender   age  hypertension  heart_disease ever_married  \\\n",
       "0    60744.0    Male  61.0           1.0            0.0          Yes   \n",
       "1    64742.0    Male  48.0           0.0            0.0           No   \n",
       "2    44447.0    Male  49.0           0.0            0.0          Yes   \n",
       "3    54117.0    Male   7.0           0.0            0.0          NaN   \n",
       "4    46468.0  FeMALe  38.0           0.0            0.0          Yes   \n",
       "..       ...     ...   ...           ...            ...          ...   \n",
       "995  20165.0  Female  77.0           0.0            0.0          NaN   \n",
       "996  39375.0  Female  40.0           0.0            0.0          Yes   \n",
       "997  18790.0    Male  25.0           0.0            0.0           No   \n",
       "998      NaN  Female  43.0           0.0            0.0          NaN   \n",
       "999   5821.0     NaN  50.0           0.0            0.0          Yes   \n",
       "\n",
       "         work_type Residence_type  avg_glucose_level   bmi   smoking_status  \\\n",
       "0    Self-employed          Rural              76.11  27.3           smokes   \n",
       "1    Self-employed          Rural              64.18  32.1     never smoked   \n",
       "2          Private          Urban              58.19  29.6           smokes   \n",
       "3         children          Rural                NaN  19.0              NaN   \n",
       "4    Self-employED          Urban             147.48   NaN          Unknown   \n",
       "..             ...            ...                ...   ...              ...   \n",
       "995        Private          Urban             250.80  32.9     never smoked   \n",
       "996        Private          Rural             119.52  34.6     never smoked   \n",
       "997        Private          Urban              85.96   NaN  formerly smoked   \n",
       "998  Self-employed          Urban              89.73   NaN  formerly smoked   \n",
       "999        Private          Rural             217.39  50.6          Unknown   \n",
       "\n",
       "     stroke  \n",
       "0       1.0  \n",
       "1       0.0  \n",
       "2       0.0  \n",
       "3       0.0  \n",
       "4       0.0  \n",
       "..      ...  \n",
       "995     0.0  \n",
       "996     NaN  \n",
       "997     0.0  \n",
       "998     0.0  \n",
       "999     0.0  \n",
       "\n",
       "[1000 rows x 12 columns]"
      ]
     },
     "execution_count": 122,
     "metadata": {},
     "output_type": "execute_result"
    }
   ],
   "source": [
    "#importing data and visualizing head and tail\n",
    "data = pd.read_excel('stroke_disease.xlsx')\n",
    "data"
   ]
  },
  {
   "cell_type": "code",
   "execution_count": 123,
   "id": "754714ab",
   "metadata": {
    "colab": {
     "base_uri": "https://localhost:8080/"
    },
    "id": "754714ab",
    "outputId": "3ce8ada9-b444-45e8-aacf-e7ceef9534c3"
   },
   "outputs": [
    {
     "data": {
      "text/plain": [
       "id                   float64\n",
       "gender                object\n",
       "age                  float64\n",
       "hypertension         float64\n",
       "heart_disease        float64\n",
       "ever_married          object\n",
       "work_type             object\n",
       "Residence_type        object\n",
       "avg_glucose_level    float64\n",
       "bmi                  float64\n",
       "smoking_status        object\n",
       "stroke               float64\n",
       "dtype: object"
      ]
     },
     "execution_count": 123,
     "metadata": {},
     "output_type": "execute_result"
    }
   ],
   "source": [
    "#check data types of variables and unique values\n",
    "data.dtypes"
   ]
  },
  {
   "cell_type": "code",
   "execution_count": 124,
   "id": "708a2cbb",
   "metadata": {
    "colab": {
     "base_uri": "https://localhost:8080/"
    },
    "id": "708a2cbb",
    "outputId": "991bc37f-dbf8-41ed-acc8-1910d92cf419",
    "scrolled": false
   },
   "outputs": [
    {
     "data": {
      "text/plain": [
       "Index(['id', 'gender', 'age', 'hypertension', 'heart_disease', 'ever_married',\n",
       "       'work_type', 'Residence_type', 'avg_glucose_level', 'bmi',\n",
       "       'smoking_status', 'stroke'],\n",
       "      dtype='object')"
      ]
     },
     "execution_count": 124,
     "metadata": {},
     "output_type": "execute_result"
    }
   ],
   "source": [
    "#checking variable names\n",
    "data.columns"
   ]
  },
  {
   "cell_type": "code",
   "execution_count": 125,
   "id": "153a57fa",
   "metadata": {
    "id": "153a57fa"
   },
   "outputs": [],
   "source": [
    "data.drop(columns=['id'], inplace=True)"
   ]
  },
  {
   "cell_type": "code",
   "execution_count": 126,
   "id": "494d60a3",
   "metadata": {
    "id": "494d60a3"
   },
   "outputs": [],
   "source": [
    "data.columns = ['Gender', 'Age', 'Hypertension', 'Heart Disease','Marriage Status', 'Work Type', 'Residence Type',\n",
    "                               'Avg Glucose Level', 'BMI', 'Smoking Status', 'Stroke']"
   ]
  },
  {
   "cell_type": "code",
   "execution_count": 127,
   "id": "548fed41",
   "metadata": {
    "colab": {
     "base_uri": "https://localhost:8080/",
     "height": 423
    },
    "id": "548fed41",
    "outputId": "e4f40ed6-367c-4dd5-a603-fd849688029c"
   },
   "outputs": [
    {
     "data": {
      "text/html": [
       "\n",
       "  <div id=\"df-823281c4-6746-420f-8635-32c3461381c4\">\n",
       "    <div class=\"colab-df-container\">\n",
       "      <div>\n",
       "<style scoped>\n",
       "    .dataframe tbody tr th:only-of-type {\n",
       "        vertical-align: middle;\n",
       "    }\n",
       "\n",
       "    .dataframe tbody tr th {\n",
       "        vertical-align: top;\n",
       "    }\n",
       "\n",
       "    .dataframe thead th {\n",
       "        text-align: right;\n",
       "    }\n",
       "</style>\n",
       "<table border=\"1\" class=\"dataframe\">\n",
       "  <thead>\n",
       "    <tr style=\"text-align: right;\">\n",
       "      <th></th>\n",
       "      <th>Gender</th>\n",
       "      <th>Age</th>\n",
       "      <th>Hypertension</th>\n",
       "      <th>Heart Disease</th>\n",
       "      <th>Marriage Status</th>\n",
       "      <th>Work Type</th>\n",
       "      <th>Residence Type</th>\n",
       "      <th>Avg Glucose Level</th>\n",
       "      <th>BMI</th>\n",
       "      <th>Smoking Status</th>\n",
       "      <th>Stroke</th>\n",
       "    </tr>\n",
       "  </thead>\n",
       "  <tbody>\n",
       "    <tr>\n",
       "      <th>0</th>\n",
       "      <td>Male</td>\n",
       "      <td>61.0</td>\n",
       "      <td>1.0</td>\n",
       "      <td>0.0</td>\n",
       "      <td>Yes</td>\n",
       "      <td>Self-employed</td>\n",
       "      <td>Rural</td>\n",
       "      <td>76.11</td>\n",
       "      <td>27.3</td>\n",
       "      <td>smokes</td>\n",
       "      <td>1.0</td>\n",
       "    </tr>\n",
       "    <tr>\n",
       "      <th>1</th>\n",
       "      <td>Male</td>\n",
       "      <td>48.0</td>\n",
       "      <td>0.0</td>\n",
       "      <td>0.0</td>\n",
       "      <td>No</td>\n",
       "      <td>Self-employed</td>\n",
       "      <td>Rural</td>\n",
       "      <td>64.18</td>\n",
       "      <td>32.1</td>\n",
       "      <td>never smoked</td>\n",
       "      <td>0.0</td>\n",
       "    </tr>\n",
       "    <tr>\n",
       "      <th>2</th>\n",
       "      <td>Male</td>\n",
       "      <td>49.0</td>\n",
       "      <td>0.0</td>\n",
       "      <td>0.0</td>\n",
       "      <td>Yes</td>\n",
       "      <td>Private</td>\n",
       "      <td>Urban</td>\n",
       "      <td>58.19</td>\n",
       "      <td>29.6</td>\n",
       "      <td>smokes</td>\n",
       "      <td>0.0</td>\n",
       "    </tr>\n",
       "    <tr>\n",
       "      <th>3</th>\n",
       "      <td>Male</td>\n",
       "      <td>7.0</td>\n",
       "      <td>0.0</td>\n",
       "      <td>0.0</td>\n",
       "      <td>NaN</td>\n",
       "      <td>children</td>\n",
       "      <td>Rural</td>\n",
       "      <td>NaN</td>\n",
       "      <td>19.0</td>\n",
       "      <td>NaN</td>\n",
       "      <td>0.0</td>\n",
       "    </tr>\n",
       "    <tr>\n",
       "      <th>4</th>\n",
       "      <td>FeMALe</td>\n",
       "      <td>38.0</td>\n",
       "      <td>0.0</td>\n",
       "      <td>0.0</td>\n",
       "      <td>Yes</td>\n",
       "      <td>Self-employED</td>\n",
       "      <td>Urban</td>\n",
       "      <td>147.48</td>\n",
       "      <td>NaN</td>\n",
       "      <td>Unknown</td>\n",
       "      <td>0.0</td>\n",
       "    </tr>\n",
       "    <tr>\n",
       "      <th>...</th>\n",
       "      <td>...</td>\n",
       "      <td>...</td>\n",
       "      <td>...</td>\n",
       "      <td>...</td>\n",
       "      <td>...</td>\n",
       "      <td>...</td>\n",
       "      <td>...</td>\n",
       "      <td>...</td>\n",
       "      <td>...</td>\n",
       "      <td>...</td>\n",
       "      <td>...</td>\n",
       "    </tr>\n",
       "    <tr>\n",
       "      <th>995</th>\n",
       "      <td>Female</td>\n",
       "      <td>77.0</td>\n",
       "      <td>0.0</td>\n",
       "      <td>0.0</td>\n",
       "      <td>NaN</td>\n",
       "      <td>Private</td>\n",
       "      <td>Urban</td>\n",
       "      <td>250.80</td>\n",
       "      <td>32.9</td>\n",
       "      <td>never smoked</td>\n",
       "      <td>0.0</td>\n",
       "    </tr>\n",
       "    <tr>\n",
       "      <th>996</th>\n",
       "      <td>Female</td>\n",
       "      <td>40.0</td>\n",
       "      <td>0.0</td>\n",
       "      <td>0.0</td>\n",
       "      <td>Yes</td>\n",
       "      <td>Private</td>\n",
       "      <td>Rural</td>\n",
       "      <td>119.52</td>\n",
       "      <td>34.6</td>\n",
       "      <td>never smoked</td>\n",
       "      <td>NaN</td>\n",
       "    </tr>\n",
       "    <tr>\n",
       "      <th>997</th>\n",
       "      <td>Male</td>\n",
       "      <td>25.0</td>\n",
       "      <td>0.0</td>\n",
       "      <td>0.0</td>\n",
       "      <td>No</td>\n",
       "      <td>Private</td>\n",
       "      <td>Urban</td>\n",
       "      <td>85.96</td>\n",
       "      <td>NaN</td>\n",
       "      <td>formerly smoked</td>\n",
       "      <td>0.0</td>\n",
       "    </tr>\n",
       "    <tr>\n",
       "      <th>998</th>\n",
       "      <td>Female</td>\n",
       "      <td>43.0</td>\n",
       "      <td>0.0</td>\n",
       "      <td>0.0</td>\n",
       "      <td>NaN</td>\n",
       "      <td>Self-employed</td>\n",
       "      <td>Urban</td>\n",
       "      <td>89.73</td>\n",
       "      <td>NaN</td>\n",
       "      <td>formerly smoked</td>\n",
       "      <td>0.0</td>\n",
       "    </tr>\n",
       "    <tr>\n",
       "      <th>999</th>\n",
       "      <td>NaN</td>\n",
       "      <td>50.0</td>\n",
       "      <td>0.0</td>\n",
       "      <td>0.0</td>\n",
       "      <td>Yes</td>\n",
       "      <td>Private</td>\n",
       "      <td>Rural</td>\n",
       "      <td>217.39</td>\n",
       "      <td>50.6</td>\n",
       "      <td>Unknown</td>\n",
       "      <td>0.0</td>\n",
       "    </tr>\n",
       "  </tbody>\n",
       "</table>\n",
       "<p>1000 rows × 11 columns</p>\n",
       "</div>\n",
       "      <button class=\"colab-df-convert\" onclick=\"convertToInteractive('df-823281c4-6746-420f-8635-32c3461381c4')\"\n",
       "              title=\"Convert this dataframe to an interactive table.\"\n",
       "              style=\"display:none;\">\n",
       "        \n",
       "  <svg xmlns=\"http://www.w3.org/2000/svg\" height=\"24px\"viewBox=\"0 0 24 24\"\n",
       "       width=\"24px\">\n",
       "    <path d=\"M0 0h24v24H0V0z\" fill=\"none\"/>\n",
       "    <path d=\"M18.56 5.44l.94 2.06.94-2.06 2.06-.94-2.06-.94-.94-2.06-.94 2.06-2.06.94zm-11 1L8.5 8.5l.94-2.06 2.06-.94-2.06-.94L8.5 2.5l-.94 2.06-2.06.94zm10 10l.94 2.06.94-2.06 2.06-.94-2.06-.94-.94-2.06-.94 2.06-2.06.94z\"/><path d=\"M17.41 7.96l-1.37-1.37c-.4-.4-.92-.59-1.43-.59-.52 0-1.04.2-1.43.59L10.3 9.45l-7.72 7.72c-.78.78-.78 2.05 0 2.83L4 21.41c.39.39.9.59 1.41.59.51 0 1.02-.2 1.41-.59l7.78-7.78 2.81-2.81c.8-.78.8-2.07 0-2.86zM5.41 20L4 18.59l7.72-7.72 1.47 1.35L5.41 20z\"/>\n",
       "  </svg>\n",
       "      </button>\n",
       "      \n",
       "  <style>\n",
       "    .colab-df-container {\n",
       "      display:flex;\n",
       "      flex-wrap:wrap;\n",
       "      gap: 12px;\n",
       "    }\n",
       "\n",
       "    .colab-df-convert {\n",
       "      background-color: #E8F0FE;\n",
       "      border: none;\n",
       "      border-radius: 50%;\n",
       "      cursor: pointer;\n",
       "      display: none;\n",
       "      fill: #1967D2;\n",
       "      height: 32px;\n",
       "      padding: 0 0 0 0;\n",
       "      width: 32px;\n",
       "    }\n",
       "\n",
       "    .colab-df-convert:hover {\n",
       "      background-color: #E2EBFA;\n",
       "      box-shadow: 0px 1px 2px rgba(60, 64, 67, 0.3), 0px 1px 3px 1px rgba(60, 64, 67, 0.15);\n",
       "      fill: #174EA6;\n",
       "    }\n",
       "\n",
       "    [theme=dark] .colab-df-convert {\n",
       "      background-color: #3B4455;\n",
       "      fill: #D2E3FC;\n",
       "    }\n",
       "\n",
       "    [theme=dark] .colab-df-convert:hover {\n",
       "      background-color: #434B5C;\n",
       "      box-shadow: 0px 1px 3px 1px rgba(0, 0, 0, 0.15);\n",
       "      filter: drop-shadow(0px 1px 2px rgba(0, 0, 0, 0.3));\n",
       "      fill: #FFFFFF;\n",
       "    }\n",
       "  </style>\n",
       "\n",
       "      <script>\n",
       "        const buttonEl =\n",
       "          document.querySelector('#df-823281c4-6746-420f-8635-32c3461381c4 button.colab-df-convert');\n",
       "        buttonEl.style.display =\n",
       "          google.colab.kernel.accessAllowed ? 'block' : 'none';\n",
       "\n",
       "        async function convertToInteractive(key) {\n",
       "          const element = document.querySelector('#df-823281c4-6746-420f-8635-32c3461381c4');\n",
       "          const dataTable =\n",
       "            await google.colab.kernel.invokeFunction('convertToInteractive',\n",
       "                                                     [key], {});\n",
       "          if (!dataTable) return;\n",
       "\n",
       "          const docLinkHtml = 'Like what you see? Visit the ' +\n",
       "            '<a target=\"_blank\" href=https://colab.research.google.com/notebooks/data_table.ipynb>data table notebook</a>'\n",
       "            + ' to learn more about interactive tables.';\n",
       "          element.innerHTML = '';\n",
       "          dataTable['output_type'] = 'display_data';\n",
       "          await google.colab.output.renderOutput(dataTable, element);\n",
       "          const docLink = document.createElement('div');\n",
       "          docLink.innerHTML = docLinkHtml;\n",
       "          element.appendChild(docLink);\n",
       "        }\n",
       "      </script>\n",
       "    </div>\n",
       "  </div>\n",
       "  "
      ],
      "text/plain": [
       "     Gender   Age  Hypertension  Heart Disease Marriage Status      Work Type  \\\n",
       "0      Male  61.0           1.0            0.0             Yes  Self-employed   \n",
       "1      Male  48.0           0.0            0.0              No  Self-employed   \n",
       "2      Male  49.0           0.0            0.0             Yes        Private   \n",
       "3      Male   7.0           0.0            0.0             NaN       children   \n",
       "4    FeMALe  38.0           0.0            0.0             Yes  Self-employED   \n",
       "..      ...   ...           ...            ...             ...            ...   \n",
       "995  Female  77.0           0.0            0.0             NaN        Private   \n",
       "996  Female  40.0           0.0            0.0             Yes        Private   \n",
       "997    Male  25.0           0.0            0.0              No        Private   \n",
       "998  Female  43.0           0.0            0.0             NaN  Self-employed   \n",
       "999     NaN  50.0           0.0            0.0             Yes        Private   \n",
       "\n",
       "    Residence Type  Avg Glucose Level   BMI   Smoking Status  Stroke  \n",
       "0            Rural              76.11  27.3           smokes     1.0  \n",
       "1            Rural              64.18  32.1     never smoked     0.0  \n",
       "2            Urban              58.19  29.6           smokes     0.0  \n",
       "3            Rural                NaN  19.0              NaN     0.0  \n",
       "4            Urban             147.48   NaN          Unknown     0.0  \n",
       "..             ...                ...   ...              ...     ...  \n",
       "995          Urban             250.80  32.9     never smoked     0.0  \n",
       "996          Rural             119.52  34.6     never smoked     NaN  \n",
       "997          Urban              85.96   NaN  formerly smoked     0.0  \n",
       "998          Urban              89.73   NaN  formerly smoked     0.0  \n",
       "999          Rural             217.39  50.6          Unknown     0.0  \n",
       "\n",
       "[1000 rows x 11 columns]"
      ]
     },
     "execution_count": 127,
     "metadata": {},
     "output_type": "execute_result"
    }
   ],
   "source": [
    "data"
   ]
  },
  {
   "cell_type": "code",
   "execution_count": 128,
   "id": "7572fb6e",
   "metadata": {
    "colab": {
     "base_uri": "https://localhost:8080/"
    },
    "id": "7572fb6e",
    "outputId": "94ac646e-1495-4748-c6d2-9b6ef0d814f7"
   },
   "outputs": [
    {
     "name": "stdout",
     "output_type": "stream",
     "text": [
      "<class 'pandas.core.frame.DataFrame'>\n",
      "RangeIndex: 1000 entries, 0 to 999\n",
      "Data columns (total 11 columns):\n",
      " #   Column             Non-Null Count  Dtype  \n",
      "---  ------             --------------  -----  \n",
      " 0   Gender             862 non-null    object \n",
      " 1   Age                884 non-null    float64\n",
      " 2   Hypertension       829 non-null    float64\n",
      " 3   Heart Disease      860 non-null    float64\n",
      " 4   Marriage Status    859 non-null    object \n",
      " 5   Work Type          844 non-null    object \n",
      " 6   Residence Type     846 non-null    object \n",
      " 7   Avg Glucose Level  851 non-null    float64\n",
      " 8   BMI                808 non-null    float64\n",
      " 9   Smoking Status     847 non-null    object \n",
      " 10  Stroke             843 non-null    float64\n",
      "dtypes: float64(6), object(5)\n",
      "memory usage: 86.1+ KB\n"
     ]
    },
    {
     "data": {
      "text/plain": [
       "(1000, 11)"
      ]
     },
     "execution_count": 128,
     "metadata": {},
     "output_type": "execute_result"
    }
   ],
   "source": [
    "#more information about data. \n",
    "#number of rows n cols in data.\n",
    "data.info()\n",
    "data.shape"
   ]
  },
  {
   "cell_type": "code",
   "execution_count": 129,
   "id": "308170c2",
   "metadata": {
    "colab": {
     "base_uri": "https://localhost:8080/"
    },
    "id": "308170c2",
    "outputId": "7a6a02ad-6e88-4840-aedf-a976c9e4a64d"
   },
   "outputs": [
    {
     "data": {
      "text/plain": [
       "Gender               138\n",
       "Age                  116\n",
       "Hypertension         171\n",
       "Heart Disease        140\n",
       "Marriage Status      141\n",
       "Work Type            156\n",
       "Residence Type       154\n",
       "Avg Glucose Level    149\n",
       "BMI                  192\n",
       "Smoking Status       153\n",
       "Stroke               157\n",
       "dtype: int64"
      ]
     },
     "execution_count": 129,
     "metadata": {},
     "output_type": "execute_result"
    }
   ],
   "source": [
    "#Check for missing values\n",
    "data.isnull().sum()"
   ]
  },
  {
   "cell_type": "markdown",
   "id": "04caa0f4",
   "metadata": {
    "id": "04caa0f4"
   },
   "source": [
    "### Gender"
   ]
  },
  {
   "cell_type": "code",
   "execution_count": 130,
   "id": "b283d9c2",
   "metadata": {
    "colab": {
     "base_uri": "https://localhost:8080/"
    },
    "id": "b283d9c2",
    "outputId": "70040317-df33-478c-eeaa-6cf895048eb8"
   },
   "outputs": [
    {
     "data": {
      "text/plain": [
       "Female    487\n",
       "Male      342\n",
       "FeMALe     33\n",
       "Name: Gender, dtype: int64"
      ]
     },
     "execution_count": 130,
     "metadata": {},
     "output_type": "execute_result"
    }
   ],
   "source": [
    "#Examining the Gender variable\n",
    "data['Gender'].value_counts()"
   ]
  },
  {
   "cell_type": "code",
   "execution_count": 131,
   "id": "22b77cf1",
   "metadata": {
    "colab": {
     "base_uri": "https://localhost:8080/"
    },
    "id": "22b77cf1",
    "outputId": "82c2d0de-3c0f-4a17-b12f-dde6b59f0ce0"
   },
   "outputs": [
    {
     "data": {
      "text/plain": [
       "Female    658\n",
       "Male      342\n",
       "Name: Gender, dtype: int64"
      ]
     },
     "execution_count": 131,
     "metadata": {},
     "output_type": "execute_result"
    }
   ],
   "source": [
    "#correcting  typos in Gender variable\n",
    "data['Gender'] = data['Gender'].str.strip()\n",
    "data.loc[data['Gender'] == 'FeMALe', 'Gender'] = 'Female'\n",
    "data['Gender'] = data['Gender'].fillna('Female')\n",
    "data['Gender'] = data['Gender'].astype(str)\n",
    "data['Gender'].value_counts()"
   ]
  },
  {
   "cell_type": "markdown",
   "id": "f568274a",
   "metadata": {
    "id": "f568274a"
   },
   "source": [
    "### Work Type"
   ]
  },
  {
   "cell_type": "code",
   "execution_count": 132,
   "id": "69685361",
   "metadata": {
    "colab": {
     "base_uri": "https://localhost:8080/"
    },
    "id": "69685361",
    "outputId": "2a2864d8-cb7c-4e2b-a54f-cb704c2c1cde"
   },
   "outputs": [
    {
     "data": {
      "text/plain": [
       "Private          456\n",
       "children         135\n",
       "Self-employed    126\n",
       "Govt_job         117\n",
       "Self-employED      7\n",
       "Never_worked       2\n",
       "Never_workED       1\n",
       "Name: Work Type, dtype: int64"
      ]
     },
     "execution_count": 132,
     "metadata": {},
     "output_type": "execute_result"
    }
   ],
   "source": [
    "#Examining the Work Type variable\n",
    "data['Work Type'].value_counts()"
   ]
  },
  {
   "cell_type": "code",
   "execution_count": 133,
   "id": "aaea6720",
   "metadata": {
    "colab": {
     "base_uri": "https://localhost:8080/"
    },
    "id": "aaea6720",
    "outputId": "4ee9b6c1-b15d-4d0e-e91f-52a667285710"
   },
   "outputs": [
    {
     "data": {
      "text/plain": [
       "Private          612\n",
       "Children         135\n",
       "Self-employed    133\n",
       "Govt job         117\n",
       "Never worked       3\n",
       "Name: Work Type, dtype: int64"
      ]
     },
     "execution_count": 133,
     "metadata": {},
     "output_type": "execute_result"
    }
   ],
   "source": [
    "#Fixing typos in Work Type variable\n",
    "data.loc[data['Work Type'] == 'Self-employED', 'Work Type'] = 'Self-employed'\n",
    "data.loc[data['Work Type'] == 'Never_workED', 'Work Type'] = 'Never worked'\n",
    "data.loc[data['Work Type'] == 'Never_worked', 'Work Type'] = 'Never worked'\n",
    "data.loc[data['Work Type'] == 'Govt_job', 'Work Type'] = 'Govt job'\n",
    "data.loc[data['Work Type'] == 'children', 'Work Type'] = 'Children'\n",
    "data['Work Type']=data['Work Type'].fillna('Private')\n",
    "data['Work Type'].value_counts()"
   ]
  },
  {
   "cell_type": "markdown",
   "id": "fadda975",
   "metadata": {
    "id": "fadda975"
   },
   "source": [
    "### Smoking status"
   ]
  },
  {
   "cell_type": "code",
   "execution_count": 134,
   "id": "6c7345d8",
   "metadata": {
    "colab": {
     "base_uri": "https://localhost:8080/"
    },
    "id": "6c7345d8",
    "outputId": "68992925-4316-4acf-8662-e078a76d7579"
   },
   "outputs": [
    {
     "data": {
      "text/plain": [
       "never smoked       318\n",
       "Unknown            277\n",
       "formerly smoked    139\n",
       "smokes             113\n",
       "Name: Smoking Status, dtype: int64"
      ]
     },
     "execution_count": 134,
     "metadata": {},
     "output_type": "execute_result"
    }
   ],
   "source": [
    "#Examining 'Smoking Status' variable\n",
    "data['Smoking Status'].str.strip()\n",
    "data['Smoking Status'].value_counts()"
   ]
  },
  {
   "cell_type": "code",
   "execution_count": 135,
   "id": "9cc4c6d9",
   "metadata": {
    "colab": {
     "base_uri": "https://localhost:8080/"
    },
    "id": "9cc4c6d9",
    "outputId": "0b2b6bb7-3e23-45b8-a767-d41e70599bab"
   },
   "outputs": [
    {
     "data": {
      "text/plain": [
       "Unknown          430\n",
       "Non-smoker       318\n",
       "Former-smoker    139\n",
       "Smoker           113\n",
       "Name: Smoking Status, dtype: int64"
      ]
     },
     "execution_count": 135,
     "metadata": {},
     "output_type": "execute_result"
    }
   ],
   "source": [
    "#Fixing responses in smoking status\n",
    "data.loc[data['Smoking Status'] == 'never smoked', 'Smoking Status'] = 'Non-smoker'\n",
    "data.loc[data['Smoking Status'] == 'formerly smoked', 'Smoking Status'] = 'Former-smoker'\n",
    "data.loc[data['Smoking Status'] == 'smokes', 'Smoking Status'] = 'Smoker'\n",
    "#Assigning 'Unknown' to null vals\n",
    "data['Smoking Status'] = data['Smoking Status'].fillna('Unknown')\n",
    "data['Smoking Status'].value_counts()"
   ]
  },
  {
   "cell_type": "markdown",
   "id": "551381ac",
   "metadata": {
    "id": "551381ac"
   },
   "source": [
    "### Hypertension"
   ]
  },
  {
   "cell_type": "code",
   "execution_count": 136,
   "id": "59303054",
   "metadata": {
    "colab": {
     "base_uri": "https://localhost:8080/"
    },
    "id": "59303054",
    "outputId": "b7d751fc-b6f4-4ecf-80cb-2c25e9613d68"
   },
   "outputs": [
    {
     "data": {
      "text/plain": [
       "0.0         723\n",
       "1.0          81\n",
       "999999.0     25\n",
       "Name: Hypertension, dtype: int64"
      ]
     },
     "execution_count": 136,
     "metadata": {},
     "output_type": "execute_result"
    }
   ],
   "source": [
    "#Examining 'Hypertension' variable\n",
    "data['Hypertension'].value_counts()"
   ]
  },
  {
   "cell_type": "code",
   "execution_count": 137,
   "id": "589c7ec6",
   "metadata": {
    "colab": {
     "base_uri": "https://localhost:8080/"
    },
    "id": "589c7ec6",
    "outputId": "4ada4c14-c73e-4c5a-bab0-fdedbf3e5022"
   },
   "outputs": [
    {
     "data": {
      "text/plain": [
       "No     919\n",
       "Yes     81\n",
       "Name: Hypertension, dtype: int64"
      ]
     },
     "execution_count": 137,
     "metadata": {},
     "output_type": "execute_result"
    }
   ],
   "source": [
    "#Examining 'Hypertension' variable and replace unusual vals with mode\n",
    "data.loc[data['Hypertension'] == 999999.0, 'Hypertension'] = 'No'\n",
    "data.loc[data['Hypertension'] == 0, 'Hypertension'] = 'No'\n",
    "data.loc[data['Hypertension'] == 1, 'Hypertension'] = 'Yes'\n",
    "data['Hypertension'] = data['Hypertension'].fillna('No')\n",
    "data['Hypertension'] = data['Hypertension'].astype(str)\n",
    "data['Hypertension'].value_counts()"
   ]
  },
  {
   "cell_type": "markdown",
   "id": "64530bae",
   "metadata": {
    "id": "64530bae"
   },
   "source": [
    "### Heart Disease"
   ]
  },
  {
   "cell_type": "code",
   "execution_count": 138,
   "id": "3128f2dc",
   "metadata": {
    "colab": {
     "base_uri": "https://localhost:8080/"
    },
    "id": "3128f2dc",
    "outputId": "cfb257ae-be90-40fd-f93e-8d7ec98ec5d4"
   },
   "outputs": [
    {
     "data": {
      "text/plain": [
       "0.0         799\n",
       "1.0          36\n",
       "999999.0     25\n",
       "Name: Heart Disease, dtype: int64"
      ]
     },
     "execution_count": 138,
     "metadata": {},
     "output_type": "execute_result"
    }
   ],
   "source": [
    "#Examining 'Heart Disease' variable\n",
    "data['Heart Disease'].value_counts()"
   ]
  },
  {
   "cell_type": "code",
   "execution_count": 139,
   "id": "5c17b4bc",
   "metadata": {
    "colab": {
     "base_uri": "https://localhost:8080/"
    },
    "id": "5c17b4bc",
    "outputId": "2dbdf4bc-8dda-402e-b161-9f0358db1843"
   },
   "outputs": [
    {
     "data": {
      "text/plain": [
       "No     964\n",
       "Yes     36\n",
       "Name: Heart Disease, dtype: int64"
      ]
     },
     "execution_count": 139,
     "metadata": {},
     "output_type": "execute_result"
    }
   ],
   "source": [
    "#Examining 'Heart Disease' variable and replace unusual vals with mode\n",
    "data.loc[data['Heart Disease'] == 999999.0, 'Heart Disease'] = 'No'\n",
    "data['Heart Disease']=data['Heart Disease'].fillna('No')\n",
    "data.loc[data['Heart Disease'] == 1, 'Heart Disease'] = 'Yes'\n",
    "data.loc[data['Heart Disease'] == 0, 'Heart Disease'] = 'No'\n",
    "data['Heart Disease'] = data['Heart Disease'].astype(str)\n",
    "data['Heart Disease'].value_counts()"
   ]
  },
  {
   "cell_type": "markdown",
   "id": "5e83579a",
   "metadata": {
    "id": "5e83579a"
   },
   "source": [
    "### Marriage Status"
   ]
  },
  {
   "cell_type": "code",
   "execution_count": 140,
   "id": "b16227e1",
   "metadata": {
    "colab": {
     "base_uri": "https://localhost:8080/"
    },
    "id": "b16227e1",
    "outputId": "80a06bc0-903a-49fe-c403-39aaeb8ee767"
   },
   "outputs": [
    {
     "data": {
      "text/plain": [
       "Yes    554\n",
       "No     305\n",
       "Name: Marriage Status, dtype: int64"
      ]
     },
     "execution_count": 140,
     "metadata": {},
     "output_type": "execute_result"
    }
   ],
   "source": [
    "#Examining 'Marriage Status' variable\n",
    "data['Marriage Status'].value_counts()"
   ]
  },
  {
   "cell_type": "code",
   "execution_count": 141,
   "id": "92a3a44f",
   "metadata": {
    "colab": {
     "base_uri": "https://localhost:8080/"
    },
    "id": "92a3a44f",
    "outputId": "6a3f0890-2485-427d-911c-c4fd6d4490bd"
   },
   "outputs": [
    {
     "data": {
      "text/plain": [
       "Yes    695\n",
       "No     305\n",
       "Name: Marriage Status, dtype: int64"
      ]
     },
     "execution_count": 141,
     "metadata": {},
     "output_type": "execute_result"
    }
   ],
   "source": [
    "#Replacing null vals in Marriage Status with Yes\n",
    "data['Marriage Status']=data['Marriage Status'].fillna('Yes')\n",
    "data['Marriage Status'].value_counts()"
   ]
  },
  {
   "cell_type": "markdown",
   "id": "a6f5196a",
   "metadata": {
    "id": "a6f5196a"
   },
   "source": [
    "### Residence Type"
   ]
  },
  {
   "cell_type": "code",
   "execution_count": 142,
   "id": "38285996",
   "metadata": {
    "colab": {
     "base_uri": "https://localhost:8080/"
    },
    "id": "38285996",
    "outputId": "48690d77-d546-4e6d-8435-052f1016b79a"
   },
   "outputs": [
    {
     "data": {
      "text/plain": [
       "Rural    426\n",
       "Urban    420\n",
       "Name: Residence Type, dtype: int64"
      ]
     },
     "execution_count": 142,
     "metadata": {},
     "output_type": "execute_result"
    }
   ],
   "source": [
    "#Examining 'Residence Type' variable\n",
    "data['Residence Type'].value_counts()"
   ]
  },
  {
   "cell_type": "code",
   "execution_count": 143,
   "id": "1dd8bd13",
   "metadata": {
    "colab": {
     "base_uri": "https://localhost:8080/"
    },
    "id": "1dd8bd13",
    "outputId": "3908536c-c37a-4eb4-c134-77ea117c8856"
   },
   "outputs": [
    {
     "data": {
      "text/plain": [
       "Rural    580\n",
       "Urban    420\n",
       "Name: Residence Type, dtype: int64"
      ]
     },
     "execution_count": 143,
     "metadata": {},
     "output_type": "execute_result"
    }
   ],
   "source": [
    "#Replacing null vals in Residence Type with Rural\n",
    "data['Residence Type']=data['Residence Type'].fillna('Rural')\n",
    "data['Residence Type'].value_counts()"
   ]
  },
  {
   "cell_type": "markdown",
   "id": "09361dd9",
   "metadata": {
    "id": "09361dd9"
   },
   "source": [
    "### Avg Glucose Level"
   ]
  },
  {
   "cell_type": "code",
   "execution_count": 144,
   "id": "7f827c23",
   "metadata": {
    "colab": {
     "base_uri": "https://localhost:8080/"
    },
    "id": "7f827c23",
    "outputId": "6bb9e876-730b-4bf9-b194-43449176474d"
   },
   "outputs": [
    {
     "data": {
      "text/plain": [
       "999999.00    25\n",
       "208.05        2\n",
       "85.59         2\n",
       "108.63        2\n",
       "84.86         2\n",
       "             ..\n",
       "110.16        1\n",
       "74.98         1\n",
       "66.32         1\n",
       "65.16         1\n",
       "217.39        1\n",
       "Name: Avg Glucose Level, Length: 796, dtype: int64"
      ]
     },
     "execution_count": 144,
     "metadata": {},
     "output_type": "execute_result"
    }
   ],
   "source": [
    "#Examining the Avg Glucose Level variable\n",
    "data['Avg Glucose Level'].value_counts()"
   ]
  },
  {
   "cell_type": "code",
   "execution_count": 145,
   "id": "59e2857b",
   "metadata": {
    "colab": {
     "base_uri": "https://localhost:8080/"
    },
    "id": "59e2857b",
    "outputId": "dd370ae3-731e-4ea6-aee5-9081f6caac9f"
   },
   "outputs": [
    {
     "data": {
      "text/plain": [
       "107.543995    174\n",
       "85.590000       2\n",
       "79.890000       2\n",
       "90.220000       2\n",
       "56.110000       2\n",
       "             ... \n",
       "110.160000      1\n",
       "74.980000       1\n",
       "66.320000       1\n",
       "65.160000       1\n",
       "217.390000      1\n",
       "Name: Avg Glucose Level, Length: 796, dtype: int64"
      ]
     },
     "execution_count": 145,
     "metadata": {},
     "output_type": "execute_result"
    }
   ],
   "source": [
    "#Checking for unusual values in 'Avg Glucose Level'\n",
    "data.loc[data['Avg Glucose Level'] == 999999, 'Avg Glucose Level'] = None\n",
    "data['Avg Glucose Level'].fillna(data['Avg Glucose Level'].mean(), inplace=True)\n",
    "data['Avg Glucose Level'].value_counts()"
   ]
  },
  {
   "cell_type": "markdown",
   "id": "a30823d0",
   "metadata": {
    "id": "a30823d0"
   },
   "source": [
    "### BMI"
   ]
  },
  {
   "cell_type": "code",
   "execution_count": 146,
   "id": "dd71e6c3",
   "metadata": {
    "colab": {
     "base_uri": "https://localhost:8080/"
    },
    "id": "dd71e6c3",
    "outputId": "19aa6a3a-8f5f-4331-f9b4-e9ea6b648058"
   },
   "outputs": [
    {
     "data": {
      "text/plain": [
       "27.7    9\n",
       "26.1    9\n",
       "24.1    8\n",
       "19.5    8\n",
       "28.7    8\n",
       "       ..\n",
       "16.0    1\n",
       "52.3    1\n",
       "34.1    1\n",
       "40.6    1\n",
       "50.6    1\n",
       "Name: BMI, Length: 281, dtype: int64"
      ]
     },
     "execution_count": 146,
     "metadata": {},
     "output_type": "execute_result"
    }
   ],
   "source": [
    "#Examining the BMI variable\n",
    "data['BMI'].value_counts()"
   ]
  },
  {
   "cell_type": "code",
   "execution_count": 147,
   "id": "8dad28f5",
   "metadata": {
    "colab": {
     "base_uri": "https://localhost:8080/"
    },
    "id": "8dad28f5",
    "outputId": "6f0267f6-9670-4452-8395-9f0c96abbcd2"
   },
   "outputs": [
    {
     "data": {
      "text/plain": [
       "dtype('float64')"
      ]
     },
     "execution_count": 147,
     "metadata": {},
     "output_type": "execute_result"
    }
   ],
   "source": [
    "#Assigning mean to N/A values\n",
    "data.loc[data['BMI'] == 'N/A', 'BMI'] = None\n",
    "data['BMI'] = data['BMI'].fillna(data['BMI'].mean())\n",
    "#Converting datatype to float\n",
    "data['BMI'] = data['BMI'].astype(float)\n",
    "data['BMI'].dtypes"
   ]
  },
  {
   "cell_type": "markdown",
   "id": "3be918b6",
   "metadata": {
    "id": "3be918b6"
   },
   "source": [
    "### Stroke"
   ]
  },
  {
   "cell_type": "code",
   "execution_count": 148,
   "id": "841f5a36",
   "metadata": {
    "colab": {
     "base_uri": "https://localhost:8080/"
    },
    "id": "841f5a36",
    "outputId": "4eeecb02-88cf-46ca-89ea-3fea2e658b64"
   },
   "outputs": [
    {
     "data": {
      "text/plain": [
       "0.0         776\n",
       "1.0          42\n",
       "999999.0     25\n",
       "Name: Stroke, dtype: int64"
      ]
     },
     "execution_count": 148,
     "metadata": {},
     "output_type": "execute_result"
    }
   ],
   "source": [
    "#Examining the 'Stroke' variable\n",
    "data['Stroke'].value_counts()"
   ]
  },
  {
   "cell_type": "code",
   "execution_count": 149,
   "id": "5b492002",
   "metadata": {
    "colab": {
     "base_uri": "https://localhost:8080/"
    },
    "id": "5b492002",
    "outputId": "2312e2ca-e3ea-4619-c63c-d5de784c8f6d"
   },
   "outputs": [
    {
     "data": {
      "text/plain": [
       "No     958\n",
       "Yes     42\n",
       "Name: Stroke, dtype: int64"
      ]
     },
     "execution_count": 149,
     "metadata": {},
     "output_type": "execute_result"
    }
   ],
   "source": [
    "#Fixing the unusual values\n",
    "data.loc[data['Stroke'] == 999999.0, 'Stroke'] = None\n",
    "data.loc[data['Stroke'] == 0.0, 'Stroke'] = 'No'\n",
    "data.loc[data['Stroke'] == 1.0, 'Stroke'] = 'Yes'\n",
    "data['Stroke'].fillna('No', inplace=True)\n",
    "#Changing datatype from float to string\n",
    "data['Stroke'] = data['Stroke'].astype(str)\n",
    "data['Stroke'].value_counts()"
   ]
  },
  {
   "cell_type": "markdown",
   "id": "b2fbba81",
   "metadata": {
    "id": "b2fbba81"
   },
   "source": [
    "### Age"
   ]
  },
  {
   "cell_type": "code",
   "execution_count": 150,
   "id": "1934b369",
   "metadata": {
    "id": "1934b369"
   },
   "outputs": [],
   "source": [
    "# Examine the 'Age' variable and replace unusual values with 0\n",
    "data.loc[data['Age'] == 999999.0, 'Age'] = None\n",
    "data.fillna(data['Age'].mean(), inplace=True)\n",
    "# Convert to correct data type\n",
    "data['Age'] = pd.to_numeric(data['Age'], errors='coerce')\n",
    "# Round ages \n",
    "data['Age'] = np.floor(data['Age'])"
   ]
  },
  {
   "cell_type": "code",
   "execution_count": 151,
   "id": "c28005c1",
   "metadata": {
    "colab": {
     "base_uri": "https://localhost:8080/"
    },
    "id": "c28005c1",
    "outputId": "164d2f91-fe31-4e11-8225-1af01eb8f449"
   },
   "outputs": [
    {
     "data": {
      "text/plain": [
       "42.0    154\n",
       "50.0     19\n",
       "38.0     17\n",
       "48.0     17\n",
       "45.0     15\n",
       "       ... \n",
       "11.0      5\n",
       "77.0      5\n",
       "76.0      5\n",
       "4.0       4\n",
       "12.0      4\n",
       "Name: Age, Length: 83, dtype: int64"
      ]
     },
     "execution_count": 151,
     "metadata": {},
     "output_type": "execute_result"
    }
   ],
   "source": [
    "data['Age'].value_counts()"
   ]
  },
  {
   "cell_type": "code",
   "execution_count": 152,
   "id": "b0628c3b",
   "metadata": {
    "colab": {
     "base_uri": "https://localhost:8080/"
    },
    "id": "b0628c3b",
    "outputId": "ce4c83b7-ec60-4012-9819-c6510478a478"
   },
   "outputs": [
    {
     "data": {
      "text/plain": [
       "No     131\n",
       "Yes     27\n",
       "Name: Marriage Status, dtype: int64"
      ]
     },
     "execution_count": 152,
     "metadata": {},
     "output_type": "execute_result"
    }
   ],
   "source": [
    "#Checking consistency between Age and Marriage Status\n",
    "d=data['Marriage Status'][data['Age']<18]\n",
    "d.value_counts()"
   ]
  },
  {
   "cell_type": "code",
   "execution_count": 153,
   "id": "a60a3fb1",
   "metadata": {
    "id": "a60a3fb1"
   },
   "outputs": [],
   "source": [
    "marr = data[(data[\"Age\"] < 18) & (data[\"Marriage Status\"] == \"Yes\")]\n",
    "data.loc[marr.index, \"Marriage Status\"] = \"No\""
   ]
  },
  {
   "cell_type": "code",
   "execution_count": 154,
   "id": "1557b55f",
   "metadata": {
    "colab": {
     "base_uri": "https://localhost:8080/"
    },
    "id": "1557b55f",
    "outputId": "fd2bdd13-04a3-468d-aef5-42e083380045"
   },
   "outputs": [
    {
     "data": {
      "text/plain": [
       "Children         116\n",
       "Private           38\n",
       "Self-employed      2\n",
       "Never worked       2\n",
       "Name: Work Type, dtype: int64"
      ]
     },
     "execution_count": 154,
     "metadata": {},
     "output_type": "execute_result"
    }
   ],
   "source": [
    "#Checking consistency between Age and Work Type\n",
    "d=data['Work Type'][data['Age']<18]\n",
    "d.value_counts()"
   ]
  },
  {
   "cell_type": "code",
   "execution_count": 155,
   "id": "f66d6951",
   "metadata": {
    "id": "f66d6951"
   },
   "outputs": [],
   "source": [
    "#For age under 18, with active work status, change to children status\n",
    "#Changing under 18 Former-smoker, Unknown to Non-smoker\n",
    "work_child = data[(data[\"Age\"] < 18) & (data[\"Work Type\"] == \"Private\")]\n",
    "data.loc[work_child.index, \"Work Type\"] = \"Children\"\n",
    "\n",
    "work_child = data[(data[\"Age\"] < 18) & (data[\"Work Type\"] == \"Self-employed\")]\n",
    "data.loc[work_child.index, \"Work Type\"] = \"Children\"\n",
    "\n",
    "work_child = data[(data[\"Age\"] < 18) & (data[\"Work Type\"] == \"Govt job\")]\n",
    "data.loc[work_child.index, \"Work Type\"] = \"Children\"\n",
    "\n",
    "work_child = data[(data[\"Age\"] < 18) & (data[\"Work Type\"] == \"Null\")]\n",
    "data.loc[work_child.index, \"Work Type\"] = \"Children\"\n",
    "\n",
    "work_child = data[(data[\"Age\"] < 18) & (data[\"Work Type\"] == \"Never-worked\")]\n",
    "data.loc[work_child.index, \"Work Type\"] = \"Children\""
   ]
  },
  {
   "cell_type": "code",
   "execution_count": 156,
   "id": "5138e7a7",
   "metadata": {
    "colab": {
     "base_uri": "https://localhost:8080/"
    },
    "id": "5138e7a7",
    "outputId": "67374ba3-6273-4b4c-97cd-603fb3034c6e"
   },
   "outputs": [
    {
     "data": {
      "text/plain": [
       "Unknown          133\n",
       "Non-smoker        18\n",
       "Former-smoker      5\n",
       "Smoker             2\n",
       "Name: Smoking Status, dtype: int64"
      ]
     },
     "execution_count": 156,
     "metadata": {},
     "output_type": "execute_result"
    }
   ],
   "source": [
    "#Checking consistency between Age and Smoking Status\n",
    "d=data['Smoking Status'][data['Age']<18]\n",
    "d.value_counts()"
   ]
  },
  {
   "cell_type": "code",
   "execution_count": 157,
   "id": "bbc68961",
   "metadata": {
    "id": "bbc68961"
   },
   "outputs": [],
   "source": [
    "#Changing under 18 Former-smoker, Unknown to Non-smoker\n",
    "minor_former_smoker_rows = data[(data[\"Age\"] < 18) & (data[\"Smoking Status\"] == \"Former-smoker\")]\n",
    "data.loc[minor_former_smoker_rows.index, \"Smoking Status\"] = \"Non-smoker\"\n",
    "\n",
    "minor_former_smoker_rows_1 = data[(data[\"Age\"] < 18) & (data[\"Smoking Status\"] == \"Unknown\")]\n",
    "data.loc[minor_former_smoker_rows_1.index, \"Smoking Status\"] = \"Non-smoker\"\n",
    "\n",
    "minor_former_smoker_rows_2 = data[(data[\"Age\"] < 18) & (data[\"Smoking Status\"] == \"Smoker\")]\n",
    "data.loc[minor_former_smoker_rows_2.index, \"Smoking Status\"] = \"Non-smoker\""
   ]
  },
  {
   "cell_type": "code",
   "execution_count": 206,
   "id": "nm3n1NKqmRd3",
   "metadata": {
    "colab": {
     "base_uri": "https://localhost:8080/",
     "height": 300
    },
    "id": "nm3n1NKqmRd3",
    "outputId": "361019d6-5b2a-40dc-fa5c-c492a4b4c7ee"
   },
   "outputs": [
    {
     "data": {
      "text/html": [
       "\n",
       "  <div id=\"df-cdd82de4-8628-4375-ab68-deca9912e7b2\">\n",
       "    <div class=\"colab-df-container\">\n",
       "      <div>\n",
       "<style scoped>\n",
       "    .dataframe tbody tr th:only-of-type {\n",
       "        vertical-align: middle;\n",
       "    }\n",
       "\n",
       "    .dataframe tbody tr th {\n",
       "        vertical-align: top;\n",
       "    }\n",
       "\n",
       "    .dataframe thead th {\n",
       "        text-align: right;\n",
       "    }\n",
       "</style>\n",
       "<table border=\"1\" class=\"dataframe\">\n",
       "  <thead>\n",
       "    <tr style=\"text-align: right;\">\n",
       "      <th></th>\n",
       "      <th>Age</th>\n",
       "      <th>Avg Glucose Level</th>\n",
       "      <th>BMI</th>\n",
       "    </tr>\n",
       "  </thead>\n",
       "  <tbody>\n",
       "    <tr>\n",
       "      <th>count</th>\n",
       "      <td>1000.000000</td>\n",
       "      <td>1000.000000</td>\n",
       "      <td>1000.000000</td>\n",
       "    </tr>\n",
       "    <tr>\n",
       "      <th>mean</th>\n",
       "      <td>42.004000</td>\n",
       "      <td>107.543995</td>\n",
       "      <td>28.838614</td>\n",
       "    </tr>\n",
       "    <tr>\n",
       "      <th>std</th>\n",
       "      <td>20.886988</td>\n",
       "      <td>41.848472</td>\n",
       "      <td>7.190133</td>\n",
       "    </tr>\n",
       "    <tr>\n",
       "      <th>min</th>\n",
       "      <td>0.000000</td>\n",
       "      <td>55.260000</td>\n",
       "      <td>13.700000</td>\n",
       "    </tr>\n",
       "    <tr>\n",
       "      <th>25%</th>\n",
       "      <td>28.000000</td>\n",
       "      <td>80.997500</td>\n",
       "      <td>24.375000</td>\n",
       "    </tr>\n",
       "    <tr>\n",
       "      <th>50%</th>\n",
       "      <td>42.000000</td>\n",
       "      <td>99.565000</td>\n",
       "      <td>28.838614</td>\n",
       "    </tr>\n",
       "    <tr>\n",
       "      <th>75%</th>\n",
       "      <td>57.000000</td>\n",
       "      <td>110.305000</td>\n",
       "      <td>32.025000</td>\n",
       "    </tr>\n",
       "    <tr>\n",
       "      <th>max</th>\n",
       "      <td>82.000000</td>\n",
       "      <td>266.590000</td>\n",
       "      <td>64.400000</td>\n",
       "    </tr>\n",
       "  </tbody>\n",
       "</table>\n",
       "</div>\n",
       "      <button class=\"colab-df-convert\" onclick=\"convertToInteractive('df-cdd82de4-8628-4375-ab68-deca9912e7b2')\"\n",
       "              title=\"Convert this dataframe to an interactive table.\"\n",
       "              style=\"display:none;\">\n",
       "        \n",
       "  <svg xmlns=\"http://www.w3.org/2000/svg\" height=\"24px\"viewBox=\"0 0 24 24\"\n",
       "       width=\"24px\">\n",
       "    <path d=\"M0 0h24v24H0V0z\" fill=\"none\"/>\n",
       "    <path d=\"M18.56 5.44l.94 2.06.94-2.06 2.06-.94-2.06-.94-.94-2.06-.94 2.06-2.06.94zm-11 1L8.5 8.5l.94-2.06 2.06-.94-2.06-.94L8.5 2.5l-.94 2.06-2.06.94zm10 10l.94 2.06.94-2.06 2.06-.94-2.06-.94-.94-2.06-.94 2.06-2.06.94z\"/><path d=\"M17.41 7.96l-1.37-1.37c-.4-.4-.92-.59-1.43-.59-.52 0-1.04.2-1.43.59L10.3 9.45l-7.72 7.72c-.78.78-.78 2.05 0 2.83L4 21.41c.39.39.9.59 1.41.59.51 0 1.02-.2 1.41-.59l7.78-7.78 2.81-2.81c.8-.78.8-2.07 0-2.86zM5.41 20L4 18.59l7.72-7.72 1.47 1.35L5.41 20z\"/>\n",
       "  </svg>\n",
       "      </button>\n",
       "      \n",
       "  <style>\n",
       "    .colab-df-container {\n",
       "      display:flex;\n",
       "      flex-wrap:wrap;\n",
       "      gap: 12px;\n",
       "    }\n",
       "\n",
       "    .colab-df-convert {\n",
       "      background-color: #E8F0FE;\n",
       "      border: none;\n",
       "      border-radius: 50%;\n",
       "      cursor: pointer;\n",
       "      display: none;\n",
       "      fill: #1967D2;\n",
       "      height: 32px;\n",
       "      padding: 0 0 0 0;\n",
       "      width: 32px;\n",
       "    }\n",
       "\n",
       "    .colab-df-convert:hover {\n",
       "      background-color: #E2EBFA;\n",
       "      box-shadow: 0px 1px 2px rgba(60, 64, 67, 0.3), 0px 1px 3px 1px rgba(60, 64, 67, 0.15);\n",
       "      fill: #174EA6;\n",
       "    }\n",
       "\n",
       "    [theme=dark] .colab-df-convert {\n",
       "      background-color: #3B4455;\n",
       "      fill: #D2E3FC;\n",
       "    }\n",
       "\n",
       "    [theme=dark] .colab-df-convert:hover {\n",
       "      background-color: #434B5C;\n",
       "      box-shadow: 0px 1px 3px 1px rgba(0, 0, 0, 0.15);\n",
       "      filter: drop-shadow(0px 1px 2px rgba(0, 0, 0, 0.3));\n",
       "      fill: #FFFFFF;\n",
       "    }\n",
       "  </style>\n",
       "\n",
       "      <script>\n",
       "        const buttonEl =\n",
       "          document.querySelector('#df-cdd82de4-8628-4375-ab68-deca9912e7b2 button.colab-df-convert');\n",
       "        buttonEl.style.display =\n",
       "          google.colab.kernel.accessAllowed ? 'block' : 'none';\n",
       "\n",
       "        async function convertToInteractive(key) {\n",
       "          const element = document.querySelector('#df-cdd82de4-8628-4375-ab68-deca9912e7b2');\n",
       "          const dataTable =\n",
       "            await google.colab.kernel.invokeFunction('convertToInteractive',\n",
       "                                                     [key], {});\n",
       "          if (!dataTable) return;\n",
       "\n",
       "          const docLinkHtml = 'Like what you see? Visit the ' +\n",
       "            '<a target=\"_blank\" href=https://colab.research.google.com/notebooks/data_table.ipynb>data table notebook</a>'\n",
       "            + ' to learn more about interactive tables.';\n",
       "          element.innerHTML = '';\n",
       "          dataTable['output_type'] = 'display_data';\n",
       "          await google.colab.output.renderOutput(dataTable, element);\n",
       "          const docLink = document.createElement('div');\n",
       "          docLink.innerHTML = docLinkHtml;\n",
       "          element.appendChild(docLink);\n",
       "        }\n",
       "      </script>\n",
       "    </div>\n",
       "  </div>\n",
       "  "
      ],
      "text/plain": [
       "               Age  Avg Glucose Level          BMI\n",
       "count  1000.000000        1000.000000  1000.000000\n",
       "mean     42.004000         107.543995    28.838614\n",
       "std      20.886988          41.848472     7.190133\n",
       "min       0.000000          55.260000    13.700000\n",
       "25%      28.000000          80.997500    24.375000\n",
       "50%      42.000000          99.565000    28.838614\n",
       "75%      57.000000         110.305000    32.025000\n",
       "max      82.000000         266.590000    64.400000"
      ]
     },
     "execution_count": 206,
     "metadata": {},
     "output_type": "execute_result"
    }
   ],
   "source": [
    "###analyzing statistical measures\n",
    "data.describe()"
   ]
  },
  {
   "cell_type": "code",
   "execution_count": 158,
   "id": "aea5dc6c",
   "metadata": {
    "id": "aea5dc6c"
   },
   "outputs": [],
   "source": [
    "data.to_csv(\"Final clean data.csv\")"
   ]
  },
  {
   "cell_type": "markdown",
   "id": "272db456",
   "metadata": {
    "id": "272db456"
   },
   "source": [
    "## Research questions"
   ]
  },
  {
   "cell_type": "markdown",
   "id": "u0Q4Sp9CJkgy",
   "metadata": {
    "id": "u0Q4Sp9CJkgy"
   },
   "source": [
    "**Research question 1:**\n",
    "How is the probability of getting a stroke affected by a person's smoking status?"
   ]
  },
  {
   "cell_type": "code",
   "execution_count": 159,
   "id": "6cc3d86b",
   "metadata": {
    "colab": {
     "base_uri": "https://localhost:8080/",
     "height": 405
    },
    "id": "6cc3d86b",
    "outputId": "d910382b-3c0e-43ce-efa3-c7250419d263"
   },
   "outputs": [
    {
     "data": {
      "image/png": "[encoded data removed]",
      "text/plain": [
       "<Figure size 576x432 with 1 Axes>"
      ]
     },
     "metadata": {
      "needs_background": "light"
     },
     "output_type": "display_data"
    }
   ],
   "source": [
    "###Drawing a bar plot with decreasing order of bar length\n",
    "color=['#ebad86','#cdf594','#e67eaf','#9fb1fb','#60f5d7']\n",
    "c=['#9fb1fb']\n",
    "plt.figure(figsize=(8,6))\n",
    "a=sns.barplot(data=data.replace({'Yes': 1, 'No': 0}), order=['Former-smoker','Smoker','Unknown','Non-smoker'],\n",
    "            x='Smoking Status', y='Stroke',ci=None, palette=c)\n",
    "plt.ylabel('Stroke', rotation=0, labelpad=17)\n",
    "a.set_title('Probability of having stroke based on smoking type', position=[0.5,1.1], fontsize=14, weight=\"bold\")\n",
    "plt.show()"
   ]
  },
  {
   "cell_type": "markdown",
   "id": "8d-kkl54J34Z",
   "metadata": {
    "id": "8d-kkl54J34Z"
   },
   "source": [
    "**Research question 2:**\n",
    "Do the BMI value and smoking affect the appearance of human hypertension?"
   ]
  },
  {
   "cell_type": "code",
   "execution_count": 194,
   "id": "c44e7f61",
   "metadata": {
    "colab": {
     "base_uri": "https://localhost:8080/",
     "height": 405
    },
    "id": "c44e7f61",
    "outputId": "f599012e-21d6-44f8-b130-a74da722700b"
   },
   "outputs": [
    {
     "data": {
      "image/png": "[encoded data removed]",
      "text/plain": [
       "<Figure size 576x432 with 1 Axes>"
      ]
     },
     "metadata": {
      "needs_background": "light"
     },
     "output_type": "display_data"
    }
   ],
   "source": [
    "###Boxplot of Hypertension vs BMI\n",
    "plt.figure(figsize=(8,6))\n",
    "c1=['#cdf594','#9fb1fb']\n",
    "b=sns.boxplot(data=data, y='Hypertension', x='BMI', palette=c1)\n",
    "plt.ylabel('Hypertension', rotation=0, labelpad=17)\n",
    "b.set_title('Hypertension vs BMI', position=[0.5,1.1], fontsize=14, weight='bold')\n",
    "plt.show()"
   ]
  },
  {
   "cell_type": "markdown",
   "id": "9LeN6hG9KT7M",
   "metadata": {
    "id": "9LeN6hG9KT7M"
   },
   "source": [
    "**Research question 3:**\n",
    "Is there a connection between a person having heart disease and having a stroke?\n"
   ]
  },
  {
   "cell_type": "code",
   "execution_count": 198,
   "id": "6d81b774",
   "metadata": {
    "colab": {
     "base_uri": "https://localhost:8080/",
     "height": 416
    },
    "id": "6d81b774",
    "outputId": "8d724384-a85c-497a-d88d-929ec120206d"
   },
   "outputs": [
    {
     "data": {
      "image/png": "[encoded data removed]",
      "text/plain": [
       "<Figure size 360x360 with 1 Axes>"
      ]
     },
     "metadata": {
      "needs_background": "light"
     },
     "output_type": "display_data"
    }
   ],
   "source": [
    "###Heart disease vs stroke\n",
    "c12=['#9fb1fb','#cdf594']\n",
    "d=sns.catplot(data=data.replace({'Yes': 1, 'No': 0}), y='Stroke', x=\"Heart Disease\", kind=\"bar\", ci=None, hue_order=['Yes','No'], palette=c12)\n",
    "plt.ylabel('Stroke', rotation=0, loc='top')\n",
    "plt.xticks([1, 0], labels=['Yes', 'No'])\n",
    "d.fig.suptitle('Probability of having stroke based on having heart disease', position=[0.5,1.1], fontsize=14, weight='bold')\n",
    "plt.show()"
   ]
  },
  {
   "cell_type": "markdown",
   "id": "gQahbxZwLFpe",
   "metadata": {
    "id": "gQahbxZwLFpe"
   },
   "source": [
    "**Research question 4:**\n",
    "How do the average glucose level and BMI values between people differ depending on their marriage status and gender?\n"
   ]
  },
  {
   "cell_type": "code",
   "execution_count": 162,
   "id": "e40ad742",
   "metadata": {
    "colab": {
     "base_uri": "https://localhost:8080/",
     "height": 405
    },
    "id": "e40ad742",
    "outputId": "3dff89fa-d43f-4b3e-d778-0e98e716c1b3"
   },
   "outputs": [
    {
     "data": {
      "image/png": "[encoded data removed]",
      "text/plain": [
       "<Figure size 576x432 with 1 Axes>"
      ]
     },
     "metadata": {
      "needs_background": "light"
     },
     "output_type": "display_data"
    }
   ],
   "source": [
    "###Drawing a split violin plot for glucose levels in different genders\n",
    "c2=['#a0e7e1','#f9b9cb']\n",
    "plt.figure(figsize=(8,6))\n",
    "e=sns.violinplot(x='Marriage Status', y='Avg Glucose Level', hue='Gender', data=data, palette=c2, ci=None, split=\"Gender\")\n",
    "e.set_title('Glucose levels for the two genders', position=[0.5,1.1], fontsize=14, weight='bold')\n",
    "sns.move_legend(e, \"upper center\")"
   ]
  },
  {
   "cell_type": "code",
   "execution_count": 163,
   "id": "uOShg57Lh7Cc",
   "metadata": {
    "colab": {
     "base_uri": "https://localhost:8080/",
     "height": 423
    },
    "id": "uOShg57Lh7Cc",
    "outputId": "2d0d861b-46b3-43db-de37-4da00ac400b7"
   },
   "outputs": [
    {
     "data": {
      "text/plain": [
       "Text(0.5, 1.0, 'BMI for the two genders')"
      ]
     },
     "execution_count": 163,
     "metadata": {},
     "output_type": "execute_result"
    },
    {
     "data": {
      "image/png": "[encoded data removed]",
      "text/plain": [
       "<Figure size 576x432 with 1 Axes>"
      ]
     },
     "metadata": {
      "needs_background": "light"
     },
     "output_type": "display_data"
    }
   ],
   "source": [
    "###Drawing split violin plot for BMI in the two genders\n",
    "plt.figure(figsize=(8,6))\n",
    "f=sns.violinplot(x='Marriage Status', y='BMI', hue='Gender', data=data, palette=c2, ci=None, split=\"Gender\")\n",
    "f.set_title('BMI for the two genders', position=[0.5,1.1], fontsize=14, weight='bold')"
   ]
  },
  {
   "cell_type": "markdown",
   "id": "PRHytrUNMdnj",
   "metadata": {
    "id": "PRHytrUNMdnj"
   },
   "source": [
    "**Research question 5:**\n",
    "Does BMI remain constant among work type? Which work type results in a healthy BMI?\n"
   ]
  },
  {
   "cell_type": "code",
   "execution_count": 164,
   "id": "d2da6309",
   "metadata": {
    "colab": {
     "base_uri": "https://localhost:8080/",
     "height": 495
    },
    "id": "d2da6309",
    "outputId": "cbdd1925-6c06-4369-cd90-00bdc33aba2b"
   },
   "outputs": [
    {
     "data": {
      "image/png": "[encoded data removed]",
      "text/plain": [
       "<Figure size 864x432 with 1 Axes>"
      ]
     },
     "metadata": {
      "needs_background": "light"
     },
     "output_type": "display_data"
    }
   ],
   "source": [
    "###boxplot of work type vs BMI\n",
    "h=sns.catplot(kind='box', data=data, y='Work Type', x='BMI', palette=color, height=6, aspect=2)\n",
    "plt.ylabel('Work Type', rotation=0, loc='top')\n",
    "h.fig.suptitle('BMI accross work types', position=[0.5,1.1], fontsize=14, weight='bold')\n",
    "plt.show()"
   ]
  },
  {
   "cell_type": "markdown",
   "id": "YFcwrK6jNSaa",
   "metadata": {
    "id": "YFcwrK6jNSaa"
   },
   "source": [
    "**Research question 6:** Are older people more prone to Hypertension?"
   ]
  },
  {
   "cell_type": "code",
   "execution_count": 199,
   "id": "f7bc042f",
   "metadata": {
    "colab": {
     "base_uri": "https://localhost:8080/",
     "height": 258
    },
    "id": "f7bc042f",
    "outputId": "a4ebcdc8-407d-44f5-942f-60d9fbc1dbcb"
   },
   "outputs": [
    {
     "data": {
      "image/png": "[encoded data removed]",
      "text/plain": [
       "<Figure size 324x216 with 1 Axes>"
      ]
     },
     "metadata": {
      "needs_background": "light"
     },
     "output_type": "display_data"
    }
   ],
   "source": [
    "###Drawing boxplot of Age vs Hypertension\n",
    "i=sns.catplot(kind='box', data=data, y='Hypertension', x='Age', palette=c1, height=3, aspect=1.5)\n",
    "plt.ylabel('Hypertension', rotation=0, loc='top')\n",
    "i.fig.suptitle('Age vs Hypertension', position=[0.5,1.1], fontsize=14, weight='bold')\n",
    "plt.show()"
   ]
  },
  {
   "cell_type": "markdown",
   "id": "euf16SCOKC7U",
   "metadata": {
    "id": "euf16SCOKC7U"
   },
   "source": [
    "**Research question 7:**\n",
    "Are smokers more prone to hypertension than other smoking status?\n"
   ]
  },
  {
   "cell_type": "code",
   "execution_count": 166,
   "id": "151b6ac8",
   "metadata": {
    "colab": {
     "base_uri": "https://localhost:8080/",
     "height": 416
    },
    "id": "151b6ac8",
    "outputId": "c8da64bc-191b-4b46-9512-817dc660fe92"
   },
   "outputs": [
    {
     "data": {
      "image/png": "[encoded data removed]",
      "text/plain": [
       "<Figure size 360x360 with 1 Axes>"
      ]
     },
     "metadata": {
      "needs_background": "light"
     },
     "output_type": "display_data"
    }
   ],
   "source": [
    "###Horizontal barplot of smoking status vs hypertension\n",
    "c=sns.catplot(data=data.replace({'Yes': 1, 'No': 0}), order=['Smoker', 'Former-smoker', 'Non-smoker', 'Unknown'],\n",
    "            x=\"Hypertension\", y=\"Smoking Status\", kind=\"bar\", ci=None, palette=color)\n",
    "plt.ylabel('Smoking Status', rotation=0, loc='top')\n",
    "c.fig.suptitle('Probability of hypertension based on smoking status', position=[0.5,1.1], fontsize=14, weight='bold')\n",
    "plt.show()"
   ]
  },
  {
   "cell_type": "markdown",
   "id": "T_SmKjZFLUXK",
   "metadata": {
    "id": "T_SmKjZFLUXK"
   },
   "source": [
    "**Research question 8:**\n",
    "Does glucose level vary with smoking status?"
   ]
  },
  {
   "cell_type": "code",
   "execution_count": 167,
   "id": "15371bae",
   "metadata": {
    "colab": {
     "base_uri": "https://localhost:8080/",
     "height": 495
    },
    "id": "15371bae",
    "outputId": "a01adb34-e2fc-41e8-fb1a-d255c85a2cd2"
   },
   "outputs": [
    {
     "data": {
      "image/png": "[encoded data removed]",
      "text/plain": [
       "<Figure size 864x432 with 1 Axes>"
      ]
     },
     "metadata": {
      "needs_background": "light"
     },
     "output_type": "display_data"
    }
   ],
   "source": [
    "#удалить\n",
    "###Boxplot of glucose level vs smoking status\n",
    "g=sns.catplot(kind='box', data=data, order=['Unknown', 'Non-smoker', 'Former-smoker', 'Smoker'],\n",
    "            y='Smoking Status', x='Avg Glucose Level', palette=color, height=6, aspect=2)\n",
    "plt.ylabel('Smoking Status', rotation=0, loc='top')\n",
    "g.fig.suptitle('Glucose levels accross smoking status', position=[0.5,1.1], fontsize=14, weight='bold')\n",
    "plt.show()"
   ]
  },
  {
   "cell_type": "markdown",
   "id": "9GiudHdrLzJB",
   "metadata": {
    "id": "9GiudHdrLzJB"
   },
   "source": [
    "**Research question 9:**\n",
    "Does marriage increase the probability of a stroke?\n"
   ]
  },
  {
   "cell_type": "code",
   "execution_count": 201,
   "id": "50d9907d",
   "metadata": {
    "colab": {
     "base_uri": "https://localhost:8080/",
     "height": 434
    },
    "id": "50d9907d",
    "outputId": "608126a0-e4d6-4824-c2b3-c613609724f7"
   },
   "outputs": [
    {
     "data": {
      "text/plain": [
       "<Figure size 432x432 with 0 Axes>"
      ]
     },
     "metadata": {},
     "output_type": "display_data"
    },
    {
     "data": {
      "image/png": "[encoded data removed]",
      "text/plain": [
       "<Figure size 360x360 with 1 Axes>"
      ]
     },
     "metadata": {
      "needs_background": "light"
     },
     "output_type": "display_data"
    }
   ],
   "source": [
    "###Bar plot of marriage status vs stroke\n",
    "plt.figure(figsize=(6,6))\n",
    "g=sns.catplot(data=data.replace({'Yes': 1, 'No': 0}), x='Marriage Status', y=\"Stroke\", kind=\"bar\", ci=None, palette=c12)\n",
    "plt.ylabel('Stroke', rotation=0, loc='top')\n",
    "plt.xticks([0, 1], labels=['No', 'Yes'])\n",
    "g.fig.suptitle('Probability of stroke with respect to marriage status', position=[0.5,1.1], fontsize=14, weight='bold')\n",
    "plt.show()"
   ]
  },
  {
   "cell_type": "markdown",
   "id": "L7Mp_tNMn95G",
   "metadata": {
    "id": "L7Mp_tNMn95G"
   },
   "source": [
    "**Research question 10:** Is stroke more common in younger or older people?"
   ]
  },
  {
   "cell_type": "code",
   "execution_count": 202,
   "id": "3df6f206",
   "metadata": {
    "colab": {
     "base_uri": "https://localhost:8080/",
     "height": 416
    },
    "id": "3df6f206",
    "outputId": "49af859e-ec05-4e8d-94b5-fb83d02e9a2f"
   },
   "outputs": [
    {
     "data": {
      "image/png": "[encoded data removed]",
      "text/plain": [
       "<Figure size 360x360 with 1 Axes>"
      ]
     },
     "metadata": {
      "needs_background": "light"
     },
     "output_type": "display_data"
    }
   ],
   "source": [
    "###Drawing boxplot of stroke vs age\n",
    "j=sns.catplot(kind='box', data=data, y='Stroke', x='Age', palette=c1)\n",
    "plt.ylabel('Stroke', rotation=0, loc='top')\n",
    "j.fig.suptitle('Probability of stroke with respect to age', position=[0.5,1.1], fontsize=14, weight='bold')\n",
    "plt.show()"
   ]
  },
  {
   "cell_type": "markdown",
   "id": "NYbC64uWp1TZ",
   "metadata": {
    "id": "NYbC64uWp1TZ"
   },
   "source": [
    "**Research question 11:**\n",
    "Does hypertension increase the chance of a stroke?"
   ]
  },
  {
   "cell_type": "code",
   "execution_count": 205,
   "id": "b0353d41",
   "metadata": {
    "colab": {
     "base_uri": "https://localhost:8080/",
     "height": 416
    },
    "id": "b0353d41",
    "outputId": "031224c4-fb5a-42f3-a38a-624549d199f7"
   },
   "outputs": [
    {
     "data": {
      "image/png": "[encoded data removed]",
      "text/plain": [
       "<Figure size 360x360 with 1 Axes>"
      ]
     },
     "metadata": {
      "needs_background": "light"
     },
     "output_type": "display_data"
    }
   ],
   "source": [
    "l=sns.catplot(data=data.replace({'Yes': 1, 'No': 0}), x='Hypertension', y=\"Stroke\", kind=\"bar\", ci=None, palette=c12)\n",
    "plt.ylabel('Stroke', rotation=0, loc='top')\n",
    "plt.xticks([0, 1], labels=['No', 'Yes'])\n",
    "l.fig.suptitle('Probability of stroke with respect to hypertension', position=[0.5,1.1], fontsize=14, weight='bold')\n",
    "plt.show()"
   ]
  },
  {
   "cell_type": "code",
   "execution_count": null,
   "id": "o8BlccuSmLh4",
   "metadata": {
    "id": "o8BlccuSmLh4"
   },
   "outputs": [],
   "source": []
  }
 ],
 "metadata": {
  "colab": {
   "provenance": []
  },
  "kernelspec": {
   "display_name": "Python 3",
   "language": "python",
   "name": "python3"
  },
  "language_info": {
   "codemirror_mode": {
    "name": "ipython",
    "version": 3
   },
   "file_extension": ".py",
   "mimetype": "text/x-python",
   "name": "python",
   "nbconvert_exporter": "python",
   "pygments_lexer": "ipython3",
   "version": "3.8.8"
  }
 },
 "nbformat": 4,
 "nbformat_minor": 5
}
